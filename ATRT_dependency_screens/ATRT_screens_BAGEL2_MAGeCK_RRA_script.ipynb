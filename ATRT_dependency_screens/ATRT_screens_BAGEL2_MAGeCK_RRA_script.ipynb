{
 "cells": [
  {
   "cell_type": "code",
   "execution_count": 2,
   "id": "777b39e3",
   "metadata": {},
   "outputs": [],
   "source": [
    "import pandas as pd"
   ]
  },
  {
   "cell_type": "code",
   "execution_count": 3,
   "id": "bc944a16",
   "metadata": {},
   "outputs": [
    {
     "name": "stdout",
     "output_type": "stream",
     "text": [
      "Populating the interactive namespace from numpy and matplotlib\n"
     ]
    }
   ],
   "source": [
    "%pylab inline"
   ]
  },
  {
   "cell_type": "markdown",
   "id": "be5a9b3c",
   "metadata": {},
   "source": [
    "BAGEL2 analyses"
   ]
  },
  {
   "cell_type": "code",
   "execution_count": 4,
   "id": "e1e78a2a",
   "metadata": {},
   "outputs": [
    {
     "name": "stdout",
     "output_type": "stream",
     "text": [
      "Usage: BAGEL.py [OPTIONS] COMMAND [ARGS]...\n",
      "\n",
      "  --------------------------------------------------------------------\n",
      "  BAGEL.py\n",
      "  -------------------------------------------------------------------- A\n",
      "  tool from the Bayesian Analysis of Gene EssentiaLity (BAGEL) suite.\n",
      "\n",
      "  Calculate fold changes from read count data:\n",
      "\n",
      "          BAGEL.py fc -i [read count file] -o [output label] -c [control column]\n",
      "\n",
      "  Calculate Bayes Factors from foldchange data:\n",
      "\n",
      "          BAGEL.py bf -i [fold change] -o [output file] -e [essentials genes] -n [nonessentials genes] -c [columns]\n",
      "\n",
      "  Calculate precision-recall from Bayes Factors:\n",
      "\n",
      "          BAGEL.py pr -i [Bayes Factor file] -o [output file] -e [essentials genes] -n [nonessentials genes]\n",
      "\n",
      "  To print the current build and version use:\n",
      "\n",
      "          BAGEL.py version\n",
      "\n",
      "Options:\n",
      "  -h, --help  Show this message and exit.\n",
      "\n",
      "Commands:\n",
      "  bf       \b Calculate Bayes Factors from an input fold change file: \b...\n",
      "  fc       \b Calculate fold changes from read count data outputting a fold...\n",
      "  pr       Calculate precision-recall from an input Bayes Factors file: \b...\n",
      "  version  Report the current build and version no.\n"
     ]
    }
   ],
   "source": [
    "!BAGEL.py"
   ]
  },
  {
   "cell_type": "code",
   "execution_count": 7,
   "id": "f79424de",
   "metadata": {},
   "outputs": [
    {
     "name": "stdout",
     "output_type": "stream",
     "text": [
      "Usage: BAGEL.py bf [OPTIONS]\n",
      "\n",
      "          Calculate Bayes Factors from an input fold change file:\n",
      "\n",
      "                  BAGEL.py bf -i [fold change] -o [output file] -e [essentials genes] -n [nonessentials genes] -c [columns]\n",
      "\n",
      "          Calculates a log2 Bayes Factor for each gene. Positive BFs indicate confidence that the gene is essential.\n",
      "          Output written to the [output file] contains: gene name, mean Bayes Factor across all iterations, std deviation of\n",
      "          BFs, and number of iterations in which the gene was part of the test set (and a BF was calculated[output file].\n",
      "\n",
      "          Required options:\n",
      "              -i --fold-change [fold change file]                     Tab-delimited file of reagents and fold changes\n",
      "                                                                      (see documentation for format).\n",
      "              -o, --output-file [output file]                         Output filename\n",
      "              -e, --essential-genes [reference essentials]            File with list of training set of essential genes\n",
      "              -n, --non-essential-genes [reference nonessentials]     File with list of training set of nonessential genes\n",
      "              -c [columns to test]                                    comma-delimited list of columns in input file to\n",
      "                                                                      include in analyisis\n",
      "\n",
      "          Network options:\n",
      "              -w  [network file]    Enable Network boosting. Tab-delmited file of edges. [GeneA (\\t) GeneB]\n",
      "      '\n",
      "\n",
      "          Multi-target guides filtering options:\n",
      "              -m, --filter-multi-target     Enable filtering multi-targeting guide RNAs\n",
      "              --align-info  [file]          Input precalculated align-info file\n",
      "              -m0, --loci-without-mismatch  Filtering guide RNAs without mismatch targeting over than [N] loci, default = 10\n",
      "              -m1, --loci-with-mismatch     Filtering guide RNAs with 1-bp mismatch targeting over than [N] loci, default = 10\n",
      "\n",
      "          Other options:\n",
      "              -b, --bootstrapping            Use bootstrapping instead of cross-validation (Slow)\n",
      "              -NS, --no-resampling           Run BAGEL without resampling\n",
      "              -s, --small-sample             Low-fat BAGEL, Only resampled training set (Bootstrapping, iteration = 100)\n",
      "              -r  --sgrna-bayes-factors      Calculate sgRNA-wise Bayes Factor\n",
      "              -f  --equalise-sgrna-no        Equalize the number of sgRNAs per gene to particular value [Number]\n",
      "              -p  --equalise-rep-no          Equalize the number of repicates to particular value [Number]\n",
      "              -N  --no-of-cross-validations  Number of sections for cross validation (default 10)\n",
      "              -NB  --bootstraps-iterations   Number of bootstrap iterations (default 1000)\n",
      "              -s, --seed=N                   Define random seed\n",
      "              -h, --help                     Show this help text\n",
      "\n",
      "          Example:\n",
      "\n",
      "                  BAGEL.py bf -i fc_file.txt -o results.bf -e ess_training_set.txt -n noness_training_set.txt -c 1,2,3\n",
      "\n",
      "\n",
      "\n",
      "Options:\n",
      "  -i, --fold-change PATH          [required]\n",
      "  -o, --output-file TEXT          [required]\n",
      "  -e, --essential-genes PATH      [required]\n",
      "  -n, --non-essential-genes PATH  [required]\n",
      "  -c, --columns-to-test TEXT      [required]\n",
      "  -w, --network-file [network File]\n",
      "  -m, --filter-multi-target\n",
      "  -m0, --loci-without-mismatch INTEGER\n",
      "  -m1, --loci-with-mismatch INTEGER\n",
      "  --align-info --align-info [File]\n",
      "  -b, --use-bootstrapping\n",
      "  -NS, --no-resampling\n",
      "  -s, --use-small-sample\n",
      "  -N, --no-of-cross-validations INTEGER\n",
      "  -NB, --bootstrap-iterations INTEGER\n",
      "  -r, --sgrna-bayes-factors\n",
      "  -f, --equalise-sgrna-no INTEGER\n",
      "  -s, --seed INTEGER\n",
      "  -t, --run-test-mode\n",
      "  -p, --equalise-rep-no INTEGER\n",
      "  -h, --help                      Show this message and exit.\n"
     ]
    }
   ],
   "source": [
    "!BAGEL.py bf -h"
   ]
  },
  {
   "cell_type": "code",
   "execution_count": 7,
   "id": "9f1bff3f",
   "metadata": {},
   "outputs": [
    {
     "name": "stdout",
     "output_type": "stream",
     "text": [
      "ATRT_screens_BAGEL2_script.ipynb\n",
      "BAGEL.py\n",
      "BT12_corLFCs.txt\n",
      "BT16_corLFCs.txt\n",
      "CEGv2.txt\n",
      "CHLA02_corLFCs.txt\n",
      "CHLA04_corLFCs.txt\n",
      "CHLA05_corLFCs.txt\n",
      "CHLA06_corLFCs.txt\n",
      "CHLA266_bf.txt\n",
      "CHLA266_corLFCs.txt\n",
      "CHLA266_pr.txt\n",
      "NEGv1.txt\n",
      "PR_curve_CHLA266.pdf\n",
      "PR_hist_CHLA266.pdf\n"
     ]
    }
   ],
   "source": [
    "!ls"
   ]
  },
  {
   "cell_type": "code",
   "execution_count": null,
   "id": "2fbd9923",
   "metadata": {},
   "outputs": [],
   "source": [
    "!BAGEL.py bf -i BT12_corLFCs.txt -o \"C:\\Users\\Daniel Merk\\Documents\\Tübingen\\ATRT\\Screens\\New_analysis\\BAGEL2\\results\\BT12_bf.txt\" -e CEGv2.txt -n NEGv1.txt -c 1,2,3"
   ]
  },
  {
   "cell_type": "code",
   "execution_count": 19,
   "id": "264a4525",
   "metadata": {},
   "outputs": [],
   "source": [
    "!BAGEL.py pr -i BT12_bf.txt -o BT12_pr.txt -e CEGv2.txt -n NEGv1.txt"
   ]
  },
  {
   "cell_type": "code",
   "execution_count": 6,
   "id": "2b4cbcc0",
   "metadata": {},
   "outputs": [
    {
     "ename": "FileNotFoundError",
     "evalue": "[Errno 2] No such file or directory: 'BT12_pr.txt'",
     "output_type": "error",
     "traceback": [
      "\u001b[1;31m---------------------------------------------------------------------------\u001b[0m",
      "\u001b[1;31mFileNotFoundError\u001b[0m                         Traceback (most recent call last)",
      "\u001b[1;32m<ipython-input-6-e0d1e281e6fc>\u001b[0m in \u001b[0;36m<module>\u001b[1;34m\u001b[0m\n\u001b[1;32m----> 1\u001b[1;33m \u001b[0mpr_data_BT12\u001b[0m \u001b[1;33m=\u001b[0m \u001b[0mpd\u001b[0m\u001b[1;33m.\u001b[0m\u001b[0mread_table\u001b[0m\u001b[1;33m(\u001b[0m\u001b[1;34m'BT12_pr.txt'\u001b[0m\u001b[1;33m,\u001b[0m \u001b[0mindex_col\u001b[0m\u001b[1;33m=\u001b[0m\u001b[1;36m0\u001b[0m\u001b[1;33m)\u001b[0m\u001b[1;33m\u001b[0m\u001b[1;33m\u001b[0m\u001b[0m\n\u001b[0m\u001b[0;32m      2\u001b[0m \u001b[0mpr_data_BT12\u001b[0m\u001b[1;33m.\u001b[0m\u001b[0minfo\u001b[0m\u001b[1;33m(\u001b[0m\u001b[1;33m)\u001b[0m\u001b[1;33m\u001b[0m\u001b[1;33m\u001b[0m\u001b[0m\n",
      "\u001b[1;32mC:\\ProgramData\\Anaconda3\\lib\\site-packages\\pandas\\io\\parsers.py\u001b[0m in \u001b[0;36mread_table\u001b[1;34m(filepath_or_buffer, sep, delimiter, header, names, index_col, usecols, squeeze, prefix, mangle_dupe_cols, dtype, engine, converters, true_values, false_values, skipinitialspace, skiprows, skipfooter, nrows, na_values, keep_default_na, na_filter, verbose, skip_blank_lines, parse_dates, infer_datetime_format, keep_date_col, date_parser, dayfirst, cache_dates, iterator, chunksize, compression, thousands, decimal, lineterminator, quotechar, quoting, doublequote, escapechar, comment, encoding, dialect, error_bad_lines, warn_bad_lines, delim_whitespace, low_memory, memory_map, float_precision)\u001b[0m\n\u001b[0;32m    687\u001b[0m     \u001b[0mkwds\u001b[0m\u001b[1;33m.\u001b[0m\u001b[0mupdate\u001b[0m\u001b[1;33m(\u001b[0m\u001b[0mkwds_defaults\u001b[0m\u001b[1;33m)\u001b[0m\u001b[1;33m\u001b[0m\u001b[1;33m\u001b[0m\u001b[0m\n\u001b[0;32m    688\u001b[0m \u001b[1;33m\u001b[0m\u001b[0m\n\u001b[1;32m--> 689\u001b[1;33m     \u001b[1;32mreturn\u001b[0m \u001b[0m_read\u001b[0m\u001b[1;33m(\u001b[0m\u001b[0mfilepath_or_buffer\u001b[0m\u001b[1;33m,\u001b[0m \u001b[0mkwds\u001b[0m\u001b[1;33m)\u001b[0m\u001b[1;33m\u001b[0m\u001b[1;33m\u001b[0m\u001b[0m\n\u001b[0m\u001b[0;32m    690\u001b[0m \u001b[1;33m\u001b[0m\u001b[0m\n\u001b[0;32m    691\u001b[0m \u001b[1;33m\u001b[0m\u001b[0m\n",
      "\u001b[1;32mC:\\ProgramData\\Anaconda3\\lib\\site-packages\\pandas\\io\\parsers.py\u001b[0m in \u001b[0;36m_read\u001b[1;34m(filepath_or_buffer, kwds)\u001b[0m\n\u001b[0;32m    460\u001b[0m \u001b[1;33m\u001b[0m\u001b[0m\n\u001b[0;32m    461\u001b[0m     \u001b[1;31m# Create the parser.\u001b[0m\u001b[1;33m\u001b[0m\u001b[1;33m\u001b[0m\u001b[1;33m\u001b[0m\u001b[0m\n\u001b[1;32m--> 462\u001b[1;33m     \u001b[0mparser\u001b[0m \u001b[1;33m=\u001b[0m \u001b[0mTextFileReader\u001b[0m\u001b[1;33m(\u001b[0m\u001b[0mfilepath_or_buffer\u001b[0m\u001b[1;33m,\u001b[0m \u001b[1;33m**\u001b[0m\u001b[0mkwds\u001b[0m\u001b[1;33m)\u001b[0m\u001b[1;33m\u001b[0m\u001b[1;33m\u001b[0m\u001b[0m\n\u001b[0m\u001b[0;32m    463\u001b[0m \u001b[1;33m\u001b[0m\u001b[0m\n\u001b[0;32m    464\u001b[0m     \u001b[1;32mif\u001b[0m \u001b[0mchunksize\u001b[0m \u001b[1;32mor\u001b[0m \u001b[0miterator\u001b[0m\u001b[1;33m:\u001b[0m\u001b[1;33m\u001b[0m\u001b[1;33m\u001b[0m\u001b[0m\n",
      "\u001b[1;32mC:\\ProgramData\\Anaconda3\\lib\\site-packages\\pandas\\io\\parsers.py\u001b[0m in \u001b[0;36m__init__\u001b[1;34m(self, f, engine, **kwds)\u001b[0m\n\u001b[0;32m    817\u001b[0m             \u001b[0mself\u001b[0m\u001b[1;33m.\u001b[0m\u001b[0moptions\u001b[0m\u001b[1;33m[\u001b[0m\u001b[1;34m\"has_index_names\"\u001b[0m\u001b[1;33m]\u001b[0m \u001b[1;33m=\u001b[0m \u001b[0mkwds\u001b[0m\u001b[1;33m[\u001b[0m\u001b[1;34m\"has_index_names\"\u001b[0m\u001b[1;33m]\u001b[0m\u001b[1;33m\u001b[0m\u001b[1;33m\u001b[0m\u001b[0m\n\u001b[0;32m    818\u001b[0m \u001b[1;33m\u001b[0m\u001b[0m\n\u001b[1;32m--> 819\u001b[1;33m         \u001b[0mself\u001b[0m\u001b[1;33m.\u001b[0m\u001b[0m_engine\u001b[0m \u001b[1;33m=\u001b[0m \u001b[0mself\u001b[0m\u001b[1;33m.\u001b[0m\u001b[0m_make_engine\u001b[0m\u001b[1;33m(\u001b[0m\u001b[0mself\u001b[0m\u001b[1;33m.\u001b[0m\u001b[0mengine\u001b[0m\u001b[1;33m)\u001b[0m\u001b[1;33m\u001b[0m\u001b[1;33m\u001b[0m\u001b[0m\n\u001b[0m\u001b[0;32m    820\u001b[0m \u001b[1;33m\u001b[0m\u001b[0m\n\u001b[0;32m    821\u001b[0m     \u001b[1;32mdef\u001b[0m \u001b[0mclose\u001b[0m\u001b[1;33m(\u001b[0m\u001b[0mself\u001b[0m\u001b[1;33m)\u001b[0m\u001b[1;33m:\u001b[0m\u001b[1;33m\u001b[0m\u001b[1;33m\u001b[0m\u001b[0m\n",
      "\u001b[1;32mC:\\ProgramData\\Anaconda3\\lib\\site-packages\\pandas\\io\\parsers.py\u001b[0m in \u001b[0;36m_make_engine\u001b[1;34m(self, engine)\u001b[0m\n\u001b[0;32m   1048\u001b[0m             )\n\u001b[0;32m   1049\u001b[0m         \u001b[1;31m# error: Too many arguments for \"ParserBase\"\u001b[0m\u001b[1;33m\u001b[0m\u001b[1;33m\u001b[0m\u001b[1;33m\u001b[0m\u001b[0m\n\u001b[1;32m-> 1050\u001b[1;33m         \u001b[1;32mreturn\u001b[0m \u001b[0mmapping\u001b[0m\u001b[1;33m[\u001b[0m\u001b[0mengine\u001b[0m\u001b[1;33m]\u001b[0m\u001b[1;33m(\u001b[0m\u001b[0mself\u001b[0m\u001b[1;33m.\u001b[0m\u001b[0mf\u001b[0m\u001b[1;33m,\u001b[0m \u001b[1;33m**\u001b[0m\u001b[0mself\u001b[0m\u001b[1;33m.\u001b[0m\u001b[0moptions\u001b[0m\u001b[1;33m)\u001b[0m  \u001b[1;31m# type: ignore[call-arg]\u001b[0m\u001b[1;33m\u001b[0m\u001b[1;33m\u001b[0m\u001b[0m\n\u001b[0m\u001b[0;32m   1051\u001b[0m \u001b[1;33m\u001b[0m\u001b[0m\n\u001b[0;32m   1052\u001b[0m     \u001b[1;32mdef\u001b[0m \u001b[0m_failover_to_python\u001b[0m\u001b[1;33m(\u001b[0m\u001b[0mself\u001b[0m\u001b[1;33m)\u001b[0m\u001b[1;33m:\u001b[0m\u001b[1;33m\u001b[0m\u001b[1;33m\u001b[0m\u001b[0m\n",
      "\u001b[1;32mC:\\ProgramData\\Anaconda3\\lib\\site-packages\\pandas\\io\\parsers.py\u001b[0m in \u001b[0;36m__init__\u001b[1;34m(self, src, **kwds)\u001b[0m\n\u001b[0;32m   1865\u001b[0m \u001b[1;33m\u001b[0m\u001b[0m\n\u001b[0;32m   1866\u001b[0m         \u001b[1;31m# open handles\u001b[0m\u001b[1;33m\u001b[0m\u001b[1;33m\u001b[0m\u001b[1;33m\u001b[0m\u001b[0m\n\u001b[1;32m-> 1867\u001b[1;33m         \u001b[0mself\u001b[0m\u001b[1;33m.\u001b[0m\u001b[0m_open_handles\u001b[0m\u001b[1;33m(\u001b[0m\u001b[0msrc\u001b[0m\u001b[1;33m,\u001b[0m \u001b[0mkwds\u001b[0m\u001b[1;33m)\u001b[0m\u001b[1;33m\u001b[0m\u001b[1;33m\u001b[0m\u001b[0m\n\u001b[0m\u001b[0;32m   1868\u001b[0m         \u001b[1;32massert\u001b[0m \u001b[0mself\u001b[0m\u001b[1;33m.\u001b[0m\u001b[0mhandles\u001b[0m \u001b[1;32mis\u001b[0m \u001b[1;32mnot\u001b[0m \u001b[1;32mNone\u001b[0m\u001b[1;33m\u001b[0m\u001b[1;33m\u001b[0m\u001b[0m\n\u001b[0;32m   1869\u001b[0m         \u001b[1;32mfor\u001b[0m \u001b[0mkey\u001b[0m \u001b[1;32min\u001b[0m \u001b[1;33m(\u001b[0m\u001b[1;34m\"storage_options\"\u001b[0m\u001b[1;33m,\u001b[0m \u001b[1;34m\"encoding\"\u001b[0m\u001b[1;33m,\u001b[0m \u001b[1;34m\"memory_map\"\u001b[0m\u001b[1;33m,\u001b[0m \u001b[1;34m\"compression\"\u001b[0m\u001b[1;33m)\u001b[0m\u001b[1;33m:\u001b[0m\u001b[1;33m\u001b[0m\u001b[1;33m\u001b[0m\u001b[0m\n",
      "\u001b[1;32mC:\\ProgramData\\Anaconda3\\lib\\site-packages\\pandas\\io\\parsers.py\u001b[0m in \u001b[0;36m_open_handles\u001b[1;34m(self, src, kwds)\u001b[0m\n\u001b[0;32m   1360\u001b[0m         \u001b[0mLet\u001b[0m \u001b[0mthe\u001b[0m \u001b[0mreaders\u001b[0m \u001b[0mopen\u001b[0m \u001b[0mIOHanldes\u001b[0m \u001b[0mafter\u001b[0m \u001b[0mthey\u001b[0m \u001b[0mare\u001b[0m \u001b[0mdone\u001b[0m \u001b[1;32mwith\u001b[0m \u001b[0mtheir\u001b[0m \u001b[0mpotential\u001b[0m \u001b[0mraises\u001b[0m\u001b[1;33m.\u001b[0m\u001b[1;33m\u001b[0m\u001b[1;33m\u001b[0m\u001b[0m\n\u001b[0;32m   1361\u001b[0m         \"\"\"\n\u001b[1;32m-> 1362\u001b[1;33m         self.handles = get_handle(\n\u001b[0m\u001b[0;32m   1363\u001b[0m             \u001b[0msrc\u001b[0m\u001b[1;33m,\u001b[0m\u001b[1;33m\u001b[0m\u001b[1;33m\u001b[0m\u001b[0m\n\u001b[0;32m   1364\u001b[0m             \u001b[1;34m\"r\"\u001b[0m\u001b[1;33m,\u001b[0m\u001b[1;33m\u001b[0m\u001b[1;33m\u001b[0m\u001b[0m\n",
      "\u001b[1;32mC:\\ProgramData\\Anaconda3\\lib\\site-packages\\pandas\\io\\common.py\u001b[0m in \u001b[0;36mget_handle\u001b[1;34m(path_or_buf, mode, encoding, compression, memory_map, is_text, errors, storage_options)\u001b[0m\n\u001b[0;32m    640\u001b[0m                 \u001b[0merrors\u001b[0m \u001b[1;33m=\u001b[0m \u001b[1;34m\"replace\"\u001b[0m\u001b[1;33m\u001b[0m\u001b[1;33m\u001b[0m\u001b[0m\n\u001b[0;32m    641\u001b[0m             \u001b[1;31m# Encoding\u001b[0m\u001b[1;33m\u001b[0m\u001b[1;33m\u001b[0m\u001b[1;33m\u001b[0m\u001b[0m\n\u001b[1;32m--> 642\u001b[1;33m             handle = open(\n\u001b[0m\u001b[0;32m    643\u001b[0m                 \u001b[0mhandle\u001b[0m\u001b[1;33m,\u001b[0m\u001b[1;33m\u001b[0m\u001b[1;33m\u001b[0m\u001b[0m\n\u001b[0;32m    644\u001b[0m                 \u001b[0mioargs\u001b[0m\u001b[1;33m.\u001b[0m\u001b[0mmode\u001b[0m\u001b[1;33m,\u001b[0m\u001b[1;33m\u001b[0m\u001b[1;33m\u001b[0m\u001b[0m\n",
      "\u001b[1;31mFileNotFoundError\u001b[0m: [Errno 2] No such file or directory: 'BT12_pr.txt'"
     ]
    }
   ],
   "source": [
    "pr_data_BT12 = pd.read_table('BT12_pr.txt', index_col=0)\n",
    "pr_data_BT12.info()"
   ]
  },
  {
   "cell_type": "code",
   "execution_count": 5,
   "id": "49d5e453",
   "metadata": {},
   "outputs": [
    {
     "ename": "NameError",
     "evalue": "name 'pr_data_BT12' is not defined",
     "output_type": "error",
     "traceback": [
      "\u001b[1;31m---------------------------------------------------------------------------\u001b[0m",
      "\u001b[1;31mNameError\u001b[0m                                 Traceback (most recent call last)",
      "\u001b[1;32m<ipython-input-5-5e09c0f43469>\u001b[0m in \u001b[0;36m<module>\u001b[1;34m\u001b[0m\n\u001b[0;32m      1\u001b[0m \u001b[0mfigure\u001b[0m\u001b[1;33m(\u001b[0m\u001b[0mfigsize\u001b[0m\u001b[1;33m(\u001b[0m\u001b[1;36m4\u001b[0m\u001b[1;33m,\u001b[0m\u001b[1;36m4\u001b[0m\u001b[1;33m)\u001b[0m\u001b[1;33m)\u001b[0m\u001b[1;33m\u001b[0m\u001b[1;33m\u001b[0m\u001b[0m\n\u001b[1;32m----> 2\u001b[1;33m \u001b[0mplot\u001b[0m\u001b[1;33m(\u001b[0m\u001b[0mpr_data_BT12\u001b[0m\u001b[1;33m.\u001b[0m\u001b[0mRecall\u001b[0m\u001b[1;33m,\u001b[0m \u001b[0mpr_data_BT12\u001b[0m\u001b[1;33m.\u001b[0m\u001b[0mPrecision\u001b[0m\u001b[1;33m,\u001b[0m \u001b[0mlinewidth\u001b[0m\u001b[1;33m=\u001b[0m\u001b[1;36m2\u001b[0m\u001b[1;33m)\u001b[0m\u001b[1;33m\u001b[0m\u001b[1;33m\u001b[0m\u001b[0m\n\u001b[0m\u001b[0;32m      3\u001b[0m \u001b[0mxlim\u001b[0m\u001b[1;33m(\u001b[0m\u001b[1;36m0\u001b[0m\u001b[1;33m,\u001b[0m\u001b[1;36m1.01\u001b[0m\u001b[1;33m)\u001b[0m\u001b[1;33m\u001b[0m\u001b[1;33m\u001b[0m\u001b[0m\n\u001b[0;32m      4\u001b[0m \u001b[0mylim\u001b[0m\u001b[1;33m(\u001b[0m\u001b[1;36m0\u001b[0m\u001b[1;33m,\u001b[0m\u001b[1;36m1.02\u001b[0m\u001b[1;33m)\u001b[0m\u001b[1;33m\u001b[0m\u001b[1;33m\u001b[0m\u001b[0m\n\u001b[0;32m      5\u001b[0m \u001b[0mxlabel\u001b[0m\u001b[1;33m(\u001b[0m\u001b[1;34m'Recall'\u001b[0m\u001b[1;33m)\u001b[0m\u001b[1;33m\u001b[0m\u001b[1;33m\u001b[0m\u001b[0m\n",
      "\u001b[1;31mNameError\u001b[0m: name 'pr_data_BT12' is not defined"
     ]
    },
    {
     "data": {
      "text/plain": [
       "<Figure size 288x288 with 0 Axes>"
      ]
     },
     "metadata": {},
     "output_type": "display_data"
    }
   ],
   "source": [
    "figure(figsize(4,4))\n",
    "plot(pr_data_BT12.Recall, pr_data_BT12.Precision, linewidth=2)\n",
    "xlim(0,1.01)\n",
    "ylim(0,1.02)\n",
    "xlabel('Recall')\n",
    "ylabel('Precision')\n",
    "title('Precision-Recall Plot')\n",
    "savefig(\"PR_curve_BT12.pdf\")"
   ]
  },
  {
   "cell_type": "code",
   "execution_count": 1,
   "id": "fdb2ffb6",
   "metadata": {},
   "outputs": [
    {
     "ename": "NameError",
     "evalue": "name 'figure' is not defined",
     "output_type": "error",
     "traceback": [
      "\u001b[1;31m---------------------------------------------------------------------------\u001b[0m",
      "\u001b[1;31mNameError\u001b[0m                                 Traceback (most recent call last)",
      "\u001b[1;32m<ipython-input-1-a453a4b763ba>\u001b[0m in \u001b[0;36m<module>\u001b[1;34m\u001b[0m\n\u001b[1;32m----> 1\u001b[1;33m \u001b[0mfigure\u001b[0m\u001b[1;33m(\u001b[0m\u001b[0mfigsize\u001b[0m\u001b[1;33m(\u001b[0m\u001b[1;36m4\u001b[0m\u001b[1;33m,\u001b[0m\u001b[1;36m4\u001b[0m\u001b[1;33m)\u001b[0m\u001b[1;33m)\u001b[0m\u001b[1;33m\u001b[0m\u001b[1;33m\u001b[0m\u001b[0m\n\u001b[0m\u001b[0;32m      2\u001b[0m \u001b[0mpr_data_BT12\u001b[0m\u001b[1;33m.\u001b[0m\u001b[0mhist\u001b[0m\u001b[1;33m(\u001b[0m\u001b[1;34m'BF'\u001b[0m\u001b[1;33m,\u001b[0m \u001b[0mbins\u001b[0m\u001b[1;33m=\u001b[0m\u001b[1;36m50\u001b[0m\u001b[1;33m,\u001b[0m \u001b[0mrange\u001b[0m\u001b[1;33m=\u001b[0m\u001b[1;33m(\u001b[0m\u001b[1;33m-\u001b[0m\u001b[1;36m100\u001b[0m\u001b[1;33m,\u001b[0m\u001b[1;36m100\u001b[0m\u001b[1;33m)\u001b[0m\u001b[1;33m)\u001b[0m\u001b[1;33m\u001b[0m\u001b[1;33m\u001b[0m\u001b[0m\n\u001b[0;32m      3\u001b[0m \u001b[0mxlabel\u001b[0m\u001b[1;33m(\u001b[0m\u001b[1;34m'Bayes Factor'\u001b[0m\u001b[1;33m)\u001b[0m\u001b[1;33m\u001b[0m\u001b[1;33m\u001b[0m\u001b[0m\n\u001b[0;32m      4\u001b[0m \u001b[0mylabel\u001b[0m\u001b[1;33m(\u001b[0m\u001b[1;34m'Number of Genes'\u001b[0m\u001b[1;33m)\u001b[0m\u001b[1;33m\u001b[0m\u001b[1;33m\u001b[0m\u001b[0m\n\u001b[0;32m      5\u001b[0m \u001b[0msavefig\u001b[0m\u001b[1;33m(\u001b[0m\u001b[1;34m\"PR_hist_BT12.pdf\"\u001b[0m\u001b[1;33m)\u001b[0m\u001b[1;33m\u001b[0m\u001b[1;33m\u001b[0m\u001b[0m\n",
      "\u001b[1;31mNameError\u001b[0m: name 'figure' is not defined"
     ]
    }
   ],
   "source": [
    "figure(figsize(4,4))\n",
    "pr_data_BT12.hist('BF', bins=50, range=(-100,100))\n",
    "xlabel('Bayes Factor')\n",
    "ylabel('Number of Genes')\n",
    "savefig(\"PR_hist_BT12.pdf\")"
   ]
  },
  {
   "cell_type": "code",
   "execution_count": 20,
   "id": "f0a8b2c1",
   "metadata": {},
   "outputs": [
    {
     "name": "stdout",
     "output_type": "stream",
     "text": [
      "ATRT_screens_BAGEL2_script.ipynb\n",
      "BAGEL.py\n",
      "BT12_corLFCs.txt\n",
      "BT16_corLFCs.txt\n",
      "CEGv2.txt\n",
      "CHLA02_corLFCs.txt\n",
      "CHLA04_corLFCs.txt\n",
      "CHLA05_corLFCs.txt\n",
      "CHLA06_corLFCs.txt\n",
      "CHLA266_corLFCs.txt\n",
      "NEGv1.txt\n"
     ]
    }
   ],
   "source": [
    "!ls"
   ]
  },
  {
   "cell_type": "code",
   "execution_count": 21,
   "id": "cc2b945d",
   "metadata": {},
   "outputs": [
    {
     "name": "stdout",
     "output_type": "stream",
     "text": [
      "Using column:  BT16_REP_A, BT16_REP_B, BT16_REP_C\n",
      "Number of unique genes:  19112\n",
      "Number of reference essentials: 684\n",
      "Number of reference nonessentials: 928\n",
      "Iter TrainEss TrainNon TestSet\n",
      "0 602 808 1912\n",
      "1 591 801 1912\n",
      "2 603 825 1911\n",
      "3 595 812 1911\n",
      "4 585 792 1911\n",
      "5 582 803 1911\n",
      "6 589 802 1911\n",
      "7 602 811 1911\n",
      "8 610 812 1911\n",
      "9 590 807 1911\n"
     ]
    }
   ],
   "source": [
    "!BAGEL.py bf -i BT16_corLFCs.txt -o BT16_bf.txt -e CEGv2.txt -n NEGv1.txt -c 1,2,3"
   ]
  },
  {
   "cell_type": "code",
   "execution_count": 22,
   "id": "28ceddd1",
   "metadata": {},
   "outputs": [],
   "source": [
    "!BAGEL.py pr -i BT16_bf.txt -o BT16_pr.txt -e CEGv2.txt -n NEGv1.txt"
   ]
  },
  {
   "cell_type": "code",
   "execution_count": 25,
   "id": "850ad180",
   "metadata": {},
   "outputs": [],
   "source": [
    "pr_data_BT16 = pd.read_table('BT16_pr.txt', index_col=0)"
   ]
  },
  {
   "cell_type": "code",
   "execution_count": 26,
   "id": "8382e197",
   "metadata": {},
   "outputs": [
    {
     "data": {
      "image/png": "[encoded data removed]",
      "text/plain": [
       "<Figure size 288x288 with 1 Axes>"
      ]
     },
     "metadata": {
      "needs_background": "light"
     },
     "output_type": "display_data"
    }
   ],
   "source": [
    "figure(figsize(4,4))\n",
    "plot(pr_data_BT16.Recall, pr_data_BT16.Precision, linewidth=2)\n",
    "xlim(0,1.01)\n",
    "ylim(0,1.02)\n",
    "xlabel('Recall')\n",
    "ylabel('Precision')\n",
    "title('Precision-Recall Plot')\n",
    "savefig(\"PR_curve_BT16.pdf\")"
   ]
  },
  {
   "cell_type": "code",
   "execution_count": 28,
   "id": "8a802804",
   "metadata": {},
   "outputs": [
    {
     "data": {
      "text/plain": [
       "<Figure size 288x288 with 0 Axes>"
      ]
     },
     "metadata": {},
     "output_type": "display_data"
    },
    {
     "data": {
      "image/png": "[encoded data removed]",
      "text/plain": [
       "<Figure size 288x288 with 1 Axes>"
      ]
     },
     "metadata": {
      "needs_background": "light"
     },
     "output_type": "display_data"
    }
   ],
   "source": [
    "figure(figsize(4,4))\n",
    "pr_data_BT16.hist('BF', bins=50, range=(-100,100))\n",
    "xlabel('Bayes Factor')\n",
    "ylabel('Number of Genes')\n",
    "savefig(\"PR_hist_BT16.pdf\")"
   ]
  },
  {
   "cell_type": "code",
   "execution_count": 29,
   "id": "d1d10d7a",
   "metadata": {},
   "outputs": [
    {
     "name": "stdout",
     "output_type": "stream",
     "text": [
      "Using column:  BT16_REP_A, BT16_REP_B, BT16_REP_C\n",
      "Number of unique genes:  19112\n",
      "Number of reference essentials: 684\n",
      "Number of reference nonessentials: 928\n",
      "Iter TrainEss TrainNon TestSet\n",
      "0 599 819 1912\n",
      "1 599 815 1912\n",
      "2 587 801 1911\n",
      "3 594 807 1911\n",
      "4 596 814 1911\n",
      "5 586 802 1911\n",
      "6 610 798 1911\n",
      "7 585 795 1911\n",
      "8 601 809 1911\n",
      "9 592 813 1911\n"
     ]
    }
   ],
   "source": [
    "!BAGEL.py bf -i CHLA02_corLFCs.txt -o CHLA02_bf.txt -e CEGv2.txt -n NEGv1.txt -c 1,2,3"
   ]
  },
  {
   "cell_type": "code",
   "execution_count": 44,
   "id": "683953c7",
   "metadata": {},
   "outputs": [
    {
     "name": "stdout",
     "output_type": "stream",
     "text": [
      "Using column:  BT16_REP_A, BT16_REP_B, BT16_REP_C\n",
      "Number of unique genes:  19112\n",
      "Number of reference essentials: 684\n",
      "Number of reference nonessentials: 926\n",
      "Iter TrainEss TrainNon TestSet\n",
      "0 592 818 1912\n",
      "1 612 788 1912\n",
      "2 603 794 1911\n",
      "3 597 802 1911\n",
      "4 596 810 1911\n",
      "5 588 819 1911\n",
      "6 593 831 1911\n",
      "7 593 805 1911\n",
      "8 589 806 1911\n",
      "9 586 791 1911\n"
     ]
    },
    {
     "data": {
      "image/png": "[encoded data removed]",
      "text/plain": [
       "<Figure size 288x288 with 1 Axes>"
      ]
     },
     "metadata": {
      "needs_background": "light"
     },
     "output_type": "display_data"
    },
    {
     "data": {
      "text/plain": [
       "<Figure size 288x288 with 0 Axes>"
      ]
     },
     "metadata": {},
     "output_type": "display_data"
    },
    {
     "data": {
      "image/png": "[encoded data removed]",
      "text/plain": [
       "<Figure size 288x288 with 1 Axes>"
      ]
     },
     "metadata": {
      "needs_background": "light"
     },
     "output_type": "display_data"
    }
   ],
   "source": [
    "!BAGEL.py bf -i CHLA02_corLFCs.txt -o CHLA02_bf.txt -e CEGv2.txt -n NEGv1.txt -c 1,2,3\n",
    "!BAGEL.py pr -i CHLA02_bf.txt -o CHLA02_pr.txt -e CEGv2.txt -n NEGv1.txt\n",
    "pr_data_CHLA02 = pd.read_table('CHLA02_pr.txt', index_col=0)\n",
    "figure(figsize(4,4))\n",
    "plot(pr_data_CHLA02.Recall, pr_data_CHLA02.Precision, linewidth=2)\n",
    "xlim(0,1.01)\n",
    "ylim(0,1.02)\n",
    "xlabel('Recall')\n",
    "ylabel('Precision')\n",
    "title('Precision-Recall Plot')\n",
    "savefig(\"PR_curve_CHLA02.pdf\")\n",
    "figure(figsize(4,4))\n",
    "pr_data_CHLA02.hist('BF', bins=50, range=(-100,100))\n",
    "xlabel('Bayes Factor')\n",
    "ylabel('Number of Genes')\n",
    "savefig(\"PR_hist_CHLA02.pdf\")"
   ]
  },
  {
   "cell_type": "code",
   "execution_count": 31,
   "id": "bc1dcca7",
   "metadata": {},
   "outputs": [
    {
     "data": {
      "image/png": "[encoded data removed]",
      "text/plain": [
       "<Figure size 288x288 with 1 Axes>"
      ]
     },
     "metadata": {
      "needs_background": "light"
     },
     "output_type": "display_data"
    }
   ],
   "source": [
    "pr_data_CHLA02.hist('BF', bins=50, range=(-100,100))\n",
    "xlabel('Bayes Factor')\n",
    "ylabel('Number of Genes')\n",
    "savefig(\"PR_hist_CHLA02.pdf\")"
   ]
  },
  {
   "cell_type": "code",
   "execution_count": 40,
   "id": "384047b0",
   "metadata": {},
   "outputs": [
    {
     "name": "stdout",
     "output_type": "stream",
     "text": [
      "Using column:  BT16_REP_A, BT16_REP_B, BT16_REP_C\n",
      "Number of unique genes:  19112\n",
      "Number of reference essentials: 684\n",
      "Number of reference nonessentials: 926\n",
      "Iter TrainEss TrainNon TestSet\n",
      "0 600 789 1912\n",
      "1 604 800 1912\n",
      "2 592 812 1911\n",
      "3 591 811 1911\n",
      "4 584 798 1911\n",
      "5 601 808 1911\n",
      "6 592 822 1911\n",
      "7 592 810 1911\n",
      "8 596 802 1911\n",
      "9 597 812 1911\n"
     ]
    },
    {
     "data": {
      "image/png": "[encoded data removed]",
      "text/plain": [
       "<Figure size 288x288 with 1 Axes>"
      ]
     },
     "metadata": {
      "needs_background": "light"
     },
     "output_type": "display_data"
    },
    {
     "data": {
      "text/plain": [
       "<Figure size 288x288 with 0 Axes>"
      ]
     },
     "metadata": {},
     "output_type": "display_data"
    },
    {
     "data": {
      "image/png": "[encoded data removed]",
      "text/plain": [
       "<Figure size 288x288 with 1 Axes>"
      ]
     },
     "metadata": {
      "needs_background": "light"
     },
     "output_type": "display_data"
    }
   ],
   "source": [
    "!BAGEL.py bf -i CHLA04_corLFCs.txt -o CHLA04_bf.txt -e CEGv2.txt -n NEGv1.txt -c 1,2,3\n",
    "!BAGEL.py pr -i CHLA04_bf.txt -o CHLA04_pr.txt -e CEGv2.txt -n NEGv1.txt\n",
    "pr_data_CHLA04 = pd.read_table('CHLA04_pr.txt', index_col=0)\n",
    "figure(figsize(4,4))\n",
    "plot(pr_data_CHLA04.Recall, pr_data_CHLA04.Precision, linewidth=2)\n",
    "xlim(0,1.01)\n",
    "ylim(0,1.02)\n",
    "xlabel('Recall')\n",
    "ylabel('Precision')\n",
    "title('Precision-Recall Plot')\n",
    "savefig(\"PR_curve_CHLA04.pdf\")\n",
    "figure(figsize(4,4))\n",
    "pr_data_CHLA04.hist('BF', bins=50, range=(-100,100))\n",
    "xlabel('Bayes Factor')\n",
    "ylabel('Number of Genes')\n",
    "savefig(\"PR_hist_CHLA04.pdf\")"
   ]
  },
  {
   "cell_type": "code",
   "execution_count": 41,
   "id": "ba338f1d",
   "metadata": {},
   "outputs": [
    {
     "name": "stdout",
     "output_type": "stream",
     "text": [
      "Using column:  BT16_REP_A, BT16_REP_B, BT16_REP_C\n",
      "Number of unique genes:  19112\n",
      "Number of reference essentials: 684\n",
      "Number of reference nonessentials: 926\n",
      "Iter TrainEss TrainNon TestSet\n",
      "0 589 814 1912\n",
      "1 597 814 1912\n",
      "2 585 807 1911\n",
      "3 601 806 1911\n",
      "4 589 800 1911\n",
      "5 595 804 1911\n",
      "6 599 807 1911\n",
      "7 585 796 1911\n",
      "8 602 800 1911\n",
      "9 607 816 1911\n"
     ]
    },
    {
     "data": {
      "image/png": "[encoded data removed]",
      "text/plain": [
       "<Figure size 288x288 with 1 Axes>"
      ]
     },
     "metadata": {
      "needs_background": "light"
     },
     "output_type": "display_data"
    },
    {
     "data": {
      "text/plain": [
       "<Figure size 288x288 with 0 Axes>"
      ]
     },
     "metadata": {},
     "output_type": "display_data"
    },
    {
     "data": {
      "image/png": "[encoded data removed]",
      "text/plain": [
       "<Figure size 288x288 with 1 Axes>"
      ]
     },
     "metadata": {
      "needs_background": "light"
     },
     "output_type": "display_data"
    }
   ],
   "source": [
    "!BAGEL.py bf -i CHLA05_corLFCs.txt -o CHLA05_bf.txt -e CEGv2.txt -n NEGv1.txt -c 1,2,3\n",
    "!BAGEL.py pr -i CHLA05_bf.txt -o CHLA05_pr.txt -e CEGv2.txt -n NEGv1.txt\n",
    "pr_data_CHLA05 = pd.read_table('CHLA05_pr.txt', index_col=0)\n",
    "figure(figsize(4,4))\n",
    "plot(pr_data_CHLA05.Recall, pr_data_CHLA05.Precision, linewidth=2)\n",
    "xlim(0,1.01)\n",
    "ylim(0,1.02)\n",
    "xlabel('Recall')\n",
    "ylabel('Precision')\n",
    "title('Precision-Recall Plot')\n",
    "savefig(\"PR_curve_CHLA05.pdf\")\n",
    "figure(figsize(4,4))\n",
    "pr_data_CHLA05.hist('BF', bins=50, range=(-100,100))\n",
    "xlabel('Bayes Factor')\n",
    "ylabel('Number of Genes')\n",
    "savefig(\"PR_hist_CHLA05.pdf\")"
   ]
  },
  {
   "cell_type": "code",
   "execution_count": 42,
   "id": "9f5cee1f",
   "metadata": {},
   "outputs": [
    {
     "name": "stdout",
     "output_type": "stream",
     "text": [
      "Using column:  BT16_REP_A, BT16_REP_B, BT16_REP_C\n",
      "Number of unique genes:  19112\n",
      "Number of reference essentials: 684\n",
      "Number of reference nonessentials: 926\n",
      "Iter TrainEss TrainNon TestSet\n",
      "0 606 806 1912\n",
      "1 594 806 1912\n",
      "2 594 799 1911\n",
      "3 598 813 1911\n",
      "4 583 815 1911\n",
      "5 600 797 1911\n",
      "6 598 805 1911\n",
      "7 600 808 1911\n",
      "8 598 811 1911\n",
      "9 578 804 1911\n"
     ]
    },
    {
     "data": {
      "image/png": "[encoded data removed]",
      "text/plain": [
       "<Figure size 288x288 with 1 Axes>"
      ]
     },
     "metadata": {
      "needs_background": "light"
     },
     "output_type": "display_data"
    },
    {
     "data": {
      "text/plain": [
       "<Figure size 288x288 with 0 Axes>"
      ]
     },
     "metadata": {},
     "output_type": "display_data"
    },
    {
     "data": {
      "image/png": "[encoded data removed]",
      "text/plain": [
       "<Figure size 288x288 with 1 Axes>"
      ]
     },
     "metadata": {
      "needs_background": "light"
     },
     "output_type": "display_data"
    }
   ],
   "source": [
    "!BAGEL.py bf -i CHLA06_corLFCs.txt -o CHLA06_bf.txt -e CEGv2.txt -n NEGv1.txt -c 1,2,3\n",
    "!BAGEL.py pr -i CHLA06_bf.txt -o CHLA06_pr.txt -e CEGv2.txt -n NEGv1.txt\n",
    "pr_data_CHLA06 = pd.read_table('CHLA06_pr.txt', index_col=0)\n",
    "figure(figsize(4,4))\n",
    "plot(pr_data_CHLA06.Recall, pr_data_CHLA06.Precision, linewidth=2)\n",
    "xlim(0,1.01)\n",
    "ylim(0,1.02)\n",
    "xlabel('Recall')\n",
    "ylabel('Precision')\n",
    "title('Precision-Recall Plot')\n",
    "savefig(\"PR_curve_CHLA06.pdf\")\n",
    "figure(figsize(4,4))\n",
    "pr_data_CHLA06.hist('BF', bins=50, range=(-100,100))\n",
    "xlabel('Bayes Factor')\n",
    "ylabel('Number of Genes')\n",
    "savefig(\"PR_hist_CHLA06.pdf\")"
   ]
  },
  {
   "cell_type": "code",
   "execution_count": 12,
   "id": "c4550ff4",
   "metadata": {},
   "outputs": [
    {
     "name": "stdout",
     "output_type": "stream",
     "text": [
      "Using column:  CHLA266_REP_A, CHLA266_REP_B, CHLA266_REP_C\n",
      "Number of unique genes:  19113\n",
      "Number of reference essentials: 684\n",
      "Number of reference nonessentials: 926\n",
      "Iter TrainEss TrainNon TestSet\n",
      "0 591 800 1912\n",
      "1 599 791 1912\n",
      "2 588 825 1912\n",
      "3 597 817 1911\n",
      "4 603 801 1911\n",
      "5 584 815 1911\n",
      "6 598 813 1911\n",
      "7 589 815 1911\n",
      "8 603 803 1911\n",
      "9 597 793 1911\n",
      "Using column:  CHLA266_REP_A, CHLA266_REP_B, CHLA266_REP_C\n",
      "Number of unique genes:  19113\n",
      "Number of reference essentials: 684\n",
      "Number of reference nonessentials: 926\n",
      "Iter TrainEss TrainNon TestSet\n",
      "0 589 793 1912\n",
      "1 579 814 1912\n",
      "2 605 813 1912\n",
      "3 597 798 1911\n",
      "4 603 801 1911\n",
      "5 585 811 1911\n",
      "6 600 818 1911\n",
      "7 599 814 1911\n",
      "8 597 803 1911\n",
      "9 595 808 1911\n"
     ]
    },
    {
     "data": {
      "image/png": "[encoded data removed]",
      "text/plain": [
       "<Figure size 288x288 with 1 Axes>"
      ]
     },
     "metadata": {
      "needs_background": "light"
     },
     "output_type": "display_data"
    },
    {
     "data": {
      "text/plain": [
       "<Figure size 288x288 with 0 Axes>"
      ]
     },
     "metadata": {},
     "output_type": "display_data"
    },
    {
     "data": {
      "image/png": "[encoded data removed]",
      "text/plain": [
       "<Figure size 288x288 with 1 Axes>"
      ]
     },
     "metadata": {
      "needs_background": "light"
     },
     "output_type": "display_data"
    }
   ],
   "source": [
    "!BAGEL.py bf -i CHLA266_corLFCs.txt -o CHLA266_bf.txt -e CEGv2.txt -n NEGv1.txt -c 1,2,3\n",
    "!BAGEL.py pr -i CHLA266_bf.txt -o CHLA266_pr.txt -e CEGv2.txt -n NEGv1.txt\n",
    "pr_data_CHLA266 = pd.read_table('CHLA266_pr.txt', index_col=0)\n",
    "figure(figsize(4,4))\n",
    "plot(pr_data_CHLA266.Recall, pr_data_CHLA266.Precision, linewidth=2)\n",
    "xlim(0,1.01)\n",
    "ylim(0,1.02)\n",
    "xlabel('Recall')\n",
    "ylabel('Precision')\n",
    "title('Precision-Recall Plot')\n",
    "savefig(\"PR_curve_CHLA266.pdf\")\n",
    "figure(figsize(4,4))\n",
    "pr_data_CHLA266.hist('BF', bins=50, range=(-100,100))\n",
    "xlabel('Bayes Factor')\n",
    "ylabel('Number of Genes')\n",
    "savefig(\"PR_hist_CHLA266.pdf\")"
   ]
  },
  {
   "cell_type": "code",
   "execution_count": 13,
   "id": "d3369990",
   "metadata": {},
   "outputs": [
    {
     "ename": "NameError",
     "evalue": "name 'BAGEL' is not defined",
     "output_type": "error",
     "traceback": [
      "\u001b[1;31m---------------------------------------------------------------------------\u001b[0m",
      "\u001b[1;31mNameError\u001b[0m                                 Traceback (most recent call last)",
      "\u001b[1;32m<ipython-input-13-e6813c9efcb8>\u001b[0m in \u001b[0;36m<module>\u001b[1;34m\u001b[0m\n\u001b[1;32m----> 1\u001b[1;33m \u001b[0mBAGEL\u001b[0m\u001b[1;33m.\u001b[0m\u001b[0mpy\u001b[0m\u001b[1;33m\u001b[0m\u001b[1;33m\u001b[0m\u001b[0m\n\u001b[0m",
      "\u001b[1;31mNameError\u001b[0m: name 'BAGEL' is not defined"
     ]
    }
   ],
   "source": [
    "BAGEL.py"
   ]
  },
  {
   "cell_type": "code",
   "execution_count": 38,
   "id": "5c06e639",
   "metadata": {},
   "outputs": [
    {
     "name": "stdout",
     "output_type": "stream",
     "text": [
      "<class 'pandas.core.frame.DataFrame'>\n",
      "Float64Index: 38224 entries, nan to nan\n",
      "Data columns (total 4 columns):\n",
      " #   Column      Non-Null Count  Dtype  \n",
      "---  ------      --------------  -----  \n",
      " 0   Unnamed: 1  0 non-null      float64\n",
      " 1   Unnamed: 2  0 non-null      float64\n",
      " 2   Unnamed: 3  0 non-null      float64\n",
      " 3   Unnamed: 4  0 non-null      float64\n",
      "dtypes: float64(4)\n",
      "memory usage: 1.5 MB\n"
     ]
    }
   ],
   "source": [
    "pr_data_CHLA04 = pd.read_table('CHLA04_pr.txt', index_col=0)\n",
    "pr_data_CHLA04.info()"
   ]
  },
  {
   "cell_type": "code",
   "execution_count": 46,
   "id": "197ecb94",
   "metadata": {},
   "outputs": [
    {
     "name": "stdout",
     "output_type": "stream",
     "text": [
      "Using column:  BT12_REP_A, BT12_REP_B, BT12_REP_C\n",
      "Number of unique genes:  19112\n",
      "Number of reference essentials: 684\n",
      "Number of reference nonessentials: 926\n",
      "Iter TrainEss TrainNon TestSet\n",
      "0 588 812 1912\n",
      "1 605 820 1912\n",
      "2 589 794 1911\n",
      "3 592 800 1911\n",
      "4 597 808 1911\n",
      "5 602 817 1911\n",
      "6 584 803 1911\n",
      "7 597 805 1911\n",
      "8 590 799 1911\n",
      "9 605 806 1911\n"
     ]
    },
    {
     "data": {
      "image/png": "[encoded data removed]",
      "text/plain": [
       "<Figure size 288x288 with 1 Axes>"
      ]
     },
     "metadata": {
      "needs_background": "light"
     },
     "output_type": "display_data"
    },
    {
     "data": {
      "text/plain": [
       "<Figure size 288x288 with 0 Axes>"
      ]
     },
     "metadata": {},
     "output_type": "display_data"
    },
    {
     "data": {
      "image/png": "[encoded data removed]",
      "text/plain": [
       "<Figure size 288x288 with 1 Axes>"
      ]
     },
     "metadata": {
      "needs_background": "light"
     },
     "output_type": "display_data"
    }
   ],
   "source": [
    "!BAGEL.py bf -i BT12_corLFCs.txt -o BT12_bf.txt -e CEGv2.txt -n NEGv1.txt -c 1,2,3\n",
    "!BAGEL.py pr -i BT12_bf.txt -o BT12_pr.txt -e CEGv2.txt -n NEGv1.txt\n",
    "pr_data_BT12 = pd.read_table('BT12_pr.txt', index_col=0)\n",
    "figure(figsize(4,4))\n",
    "plot(pr_data_BT12.Recall, pr_data_BT12.Precision, linewidth=2)\n",
    "xlim(0,1.01)\n",
    "ylim(0,1.02)\n",
    "xlabel('Recall')\n",
    "ylabel('Precision')\n",
    "title('Precision-Recall Plot')\n",
    "savefig(\"PR_curve_BT12.pdf\")\n",
    "figure(figsize(4,4))\n",
    "pr_data_BT12.hist('BF', bins=50, range=(-100,100))\n",
    "xlabel('Bayes Factor')\n",
    "ylabel('Number of Genes')\n",
    "savefig(\"PR_hist_BT12.pdf\")"
   ]
  },
  {
   "cell_type": "code",
   "execution_count": 47,
   "id": "3475861f",
   "metadata": {},
   "outputs": [
    {
     "name": "stdout",
     "output_type": "stream",
     "text": [
      "Using column:  BT16_REP_A, BT16_REP_B, BT16_REP_C\n",
      "Number of unique genes:  19112\n",
      "Number of reference essentials: 684\n",
      "Number of reference nonessentials: 926\n",
      "Iter TrainEss TrainNon TestSet\n",
      "0 589 806 1912\n",
      "1 597 801 1912\n",
      "2 596 804 1911\n",
      "3 591 805 1911\n",
      "4 604 800 1911\n",
      "5 594 805 1911\n",
      "6 593 809 1911\n",
      "7 595 817 1911\n",
      "8 592 813 1911\n",
      "9 598 804 1911\n"
     ]
    },
    {
     "data": {
      "image/png": "[encoded data removed]",
      "text/plain": [
       "<Figure size 288x288 with 1 Axes>"
      ]
     },
     "metadata": {
      "needs_background": "light"
     },
     "output_type": "display_data"
    },
    {
     "data": {
      "text/plain": [
       "<Figure size 288x288 with 0 Axes>"
      ]
     },
     "metadata": {},
     "output_type": "display_data"
    },
    {
     "data": {
      "image/png": "[encoded data removed]",
      "text/plain": [
       "<Figure size 288x288 with 1 Axes>"
      ]
     },
     "metadata": {
      "needs_background": "light"
     },
     "output_type": "display_data"
    }
   ],
   "source": [
    "!BAGEL.py bf -i BT16_corLFCs.txt -o BT16_bf.txt -e CEGv2.txt -n NEGv1.txt -c 1,2,3\n",
    "!BAGEL.py pr -i BT16_bf.txt -o BT16_pr.txt -e CEGv2.txt -n NEGv1.txt\n",
    "pr_data_BT16 = pd.read_table('BT16_pr.txt', index_col=0)\n",
    "figure(figsize(4,4))\n",
    "plot(pr_data_BT16.Recall, pr_data_BT16.Precision, linewidth=2)\n",
    "xlim(0,1.01)\n",
    "ylim(0,1.02)\n",
    "xlabel('Recall')\n",
    "ylabel('Precision')\n",
    "title('Precision-Recall Plot')\n",
    "savefig(\"PR_curve_BT16.pdf\")\n",
    "figure(figsize(4,4))\n",
    "pr_data_BT16.hist('BF', bins=50, range=(-100,100))\n",
    "xlabel('Bayes Factor')\n",
    "ylabel('Number of Genes')\n",
    "savefig(\"PR_hist_BT16.pdf\")"
   ]
  },
  {
   "cell_type": "code",
   "execution_count": 48,
   "id": "7087dd79",
   "metadata": {},
   "outputs": [
    {
     "name": "stdout",
     "output_type": "stream",
     "text": [
      "C:\\Users\\Daniel Merk\\Documents\\Tübingen\\ATRT\\Screens\\New_analysis\\BAGEL2\\results\n"
     ]
    }
   ],
   "source": [
    "cd C:\\Users\\Daniel Merk\\Documents\\Tübingen\\ATRT\\Screens\\New_analysis\\BAGEL2\\results"
   ]
  },
  {
   "cell_type": "code",
   "execution_count": 2,
   "id": "0b70c8e4",
   "metadata": {},
   "outputs": [
    {
     "ename": "NameError",
     "evalue": "name 'figure' is not defined",
     "output_type": "error",
     "traceback": [
      "\u001b[1;31m---------------------------------------------------------------------------\u001b[0m",
      "\u001b[1;31mNameError\u001b[0m                                 Traceback (most recent call last)",
      "\u001b[1;32m<ipython-input-2-53ff81363f73>\u001b[0m in \u001b[0;36m<module>\u001b[1;34m\u001b[0m\n\u001b[1;32m----> 1\u001b[1;33m \u001b[0mfigure\u001b[0m\u001b[1;33m(\u001b[0m\u001b[0mfigsize\u001b[0m\u001b[1;33m(\u001b[0m\u001b[1;36m4\u001b[0m\u001b[1;33m,\u001b[0m\u001b[1;36m4\u001b[0m\u001b[1;33m)\u001b[0m\u001b[1;33m)\u001b[0m\u001b[1;33m\u001b[0m\u001b[1;33m\u001b[0m\u001b[0m\n\u001b[0m\u001b[0;32m      2\u001b[0m \u001b[0mplot\u001b[0m\u001b[1;33m(\u001b[0m\u001b[0mpr_data_BT12\u001b[0m\u001b[1;33m.\u001b[0m\u001b[0mRecall\u001b[0m\u001b[1;33m,\u001b[0m \u001b[0mpr_data_BT12\u001b[0m\u001b[1;33m.\u001b[0m\u001b[0mPrecision\u001b[0m\u001b[1;33m,\u001b[0m \u001b[0mlinewidth\u001b[0m\u001b[1;33m=\u001b[0m\u001b[1;36m2\u001b[0m\u001b[1;33m,\u001b[0m \u001b[0mcolor\u001b[0m\u001b[1;33m=\u001b[0m\u001b[1;34m'b'\u001b[0m\u001b[1;33m)\u001b[0m\u001b[1;33m\u001b[0m\u001b[1;33m\u001b[0m\u001b[0m\n\u001b[0;32m      3\u001b[0m \u001b[0mplot\u001b[0m\u001b[1;33m(\u001b[0m\u001b[0mpr_data_BT16\u001b[0m\u001b[1;33m.\u001b[0m\u001b[0mRecall\u001b[0m\u001b[1;33m,\u001b[0m \u001b[0mpr_data_BT16\u001b[0m\u001b[1;33m.\u001b[0m\u001b[0mPrecision\u001b[0m\u001b[1;33m,\u001b[0m \u001b[0mlinewidth\u001b[0m\u001b[1;33m=\u001b[0m\u001b[1;36m2\u001b[0m\u001b[1;33m,\u001b[0m \u001b[0mcolor\u001b[0m\u001b[1;33m=\u001b[0m\u001b[1;34m'b'\u001b[0m\u001b[1;33m)\u001b[0m\u001b[1;33m\u001b[0m\u001b[1;33m\u001b[0m\u001b[0m\n\u001b[0;32m      4\u001b[0m \u001b[0mplot\u001b[0m\u001b[1;33m(\u001b[0m\u001b[0mpr_data_CHLA02\u001b[0m\u001b[1;33m.\u001b[0m\u001b[0mRecall\u001b[0m\u001b[1;33m,\u001b[0m \u001b[0mpr_data_CHLA02\u001b[0m\u001b[1;33m.\u001b[0m\u001b[0mPrecision\u001b[0m\u001b[1;33m,\u001b[0m \u001b[0mlinewidth\u001b[0m\u001b[1;33m=\u001b[0m\u001b[1;36m2\u001b[0m\u001b[1;33m,\u001b[0m \u001b[0mcolor\u001b[0m\u001b[1;33m=\u001b[0m\u001b[1;34m\"r\"\u001b[0m\u001b[1;33m)\u001b[0m\u001b[1;33m\u001b[0m\u001b[1;33m\u001b[0m\u001b[0m\n\u001b[0;32m      5\u001b[0m \u001b[0mplot\u001b[0m\u001b[1;33m(\u001b[0m\u001b[0mpr_data_CHLA04\u001b[0m\u001b[1;33m.\u001b[0m\u001b[0mRecall\u001b[0m\u001b[1;33m,\u001b[0m \u001b[0mpr_data_CHLA04\u001b[0m\u001b[1;33m.\u001b[0m\u001b[0mPrecision\u001b[0m\u001b[1;33m,\u001b[0m \u001b[0mlinewidth\u001b[0m\u001b[1;33m=\u001b[0m\u001b[1;36m2\u001b[0m\u001b[1;33m,\u001b[0m \u001b[0mcolor\u001b[0m\u001b[1;33m=\u001b[0m\u001b[1;34m'b'\u001b[0m\u001b[1;33m)\u001b[0m\u001b[1;33m\u001b[0m\u001b[1;33m\u001b[0m\u001b[0m\n",
      "\u001b[1;31mNameError\u001b[0m: name 'figure' is not defined"
     ]
    }
   ],
   "source": [
    "figure(figsize(4,4))\n",
    "plot(pr_data_BT12.Recall, pr_data_BT12.Precision, linewidth=2, color='b')\n",
    "plot(pr_data_BT16.Recall, pr_data_BT16.Precision, linewidth=2, color='b')\n",
    "plot(pr_data_CHLA02.Recall, pr_data_CHLA02.Precision, linewidth=2, color=\"r\")\n",
    "plot(pr_data_CHLA04.Recall, pr_data_CHLA04.Precision, linewidth=2, color='b')\n",
    "plot(pr_data_CHLA05.Recall, pr_data_CHLA05.Precision, linewidth=2, color='b')\n",
    "plot(pr_data_CHLA06.Recall, pr_data_CHLA06.Precision, linewidth=2, color='b')\n",
    "plot(pr_data_CHLA266.Recall, pr_data_CHLA266.Precision, linewidth=2, color='b')\n",
    "x=[0,1]\n",
    "y=[0.95,0.95]\n",
    "plot(x,y)\n",
    "xlim(0,1.01)\n",
    "ylim(0,1.02)\n",
    "xlabel('Recall')\n",
    "ylabel('Precision (1-FDR)')\n",
    "title('Precision-Recall Plot')\n",
    "savefig(\"PR_curves_merge.pdf\")"
   ]
  },
  {
   "cell_type": "code",
   "execution_count": 2,
   "id": "e8a9cce3",
   "metadata": {},
   "outputs": [
    {
     "name": "stdout",
     "output_type": "stream",
     "text": [
      "C:\\Users\\Daniel Merk\\Documents\\Tübingen\\ATRT\\Screens\\New_analysis\\BAGEL2\\results\n"
     ]
    }
   ],
   "source": [
    "cd C:\\Users\\Daniel Merk\\Documents\\Tübingen\\ATRT\\Screens\\New_analysis\\BAGEL2\\results"
   ]
  },
  {
   "cell_type": "code",
   "execution_count": 8,
   "id": "fe437998",
   "metadata": {},
   "outputs": [],
   "source": [
    "pr_data_BT16 = pd.read_table('BT16_pr.txt', index_col=0)\n",
    "pr_data_BT12 = pd.read_table('BT12_pr.txt', index_col=0)\n",
    "pr_data_CHLA02 = pd.read_table('CHLA02_pr.txt', index_col=0)\n",
    "pr_data_CHLA04 = pd.read_table('CHLA04_pr.txt', index_col=0)\n",
    "pr_data_CHLA05 = pd.read_table('CHLA05_pr.txt', index_col=0)\n",
    "pr_data_CHLA266 = pd.read_table('CHLA266_pr.txt', index_col=0)\n",
    "pr_data_CHLA06 = pd.read_table('CHLA06_pr.txt', index_col=0)"
   ]
  },
  {
   "cell_type": "code",
   "execution_count": 1,
   "id": "75a43864",
   "metadata": {},
   "outputs": [
    {
     "ename": "NameError",
     "evalue": "name 'figure' is not defined",
     "output_type": "error",
     "traceback": [
      "\u001b[1;31m---------------------------------------------------------------------------\u001b[0m",
      "\u001b[1;31mNameError\u001b[0m                                 Traceback (most recent call last)",
      "\u001b[1;32m<ipython-input-1-f9eba12372b6>\u001b[0m in \u001b[0;36m<module>\u001b[1;34m\u001b[0m\n\u001b[1;32m----> 1\u001b[1;33m \u001b[0mfigure\u001b[0m\u001b[1;33m(\u001b[0m\u001b[0mfigsize\u001b[0m\u001b[1;33m(\u001b[0m\u001b[1;36m4\u001b[0m\u001b[1;33m,\u001b[0m\u001b[1;36m4\u001b[0m\u001b[1;33m)\u001b[0m\u001b[1;33m)\u001b[0m\u001b[1;33m\u001b[0m\u001b[1;33m\u001b[0m\u001b[0m\n\u001b[0m\u001b[0;32m      2\u001b[0m \u001b[0mplot\u001b[0m\u001b[1;33m(\u001b[0m\u001b[0mpr_data_BT12\u001b[0m\u001b[1;33m.\u001b[0m\u001b[0mRecall\u001b[0m\u001b[1;33m,\u001b[0m \u001b[0mpr_data_BT12\u001b[0m\u001b[1;33m.\u001b[0m\u001b[0mPrecision\u001b[0m\u001b[1;33m,\u001b[0m \u001b[0mlinewidth\u001b[0m\u001b[1;33m=\u001b[0m\u001b[1;36m2\u001b[0m\u001b[1;33m,\u001b[0m \u001b[0mcolor\u001b[0m\u001b[1;33m=\u001b[0m\u001b[1;34m\"m\"\u001b[0m\u001b[1;33m)\u001b[0m\u001b[1;33m\u001b[0m\u001b[1;33m\u001b[0m\u001b[0m\n\u001b[0;32m      3\u001b[0m \u001b[0mplot\u001b[0m\u001b[1;33m(\u001b[0m\u001b[0mpr_data_BT16\u001b[0m\u001b[1;33m.\u001b[0m\u001b[0mRecall\u001b[0m\u001b[1;33m,\u001b[0m \u001b[0mpr_data_BT16\u001b[0m\u001b[1;33m.\u001b[0m\u001b[0mPrecision\u001b[0m\u001b[1;33m,\u001b[0m \u001b[0mlinewidth\u001b[0m\u001b[1;33m=\u001b[0m\u001b[1;36m2\u001b[0m\u001b[1;33m,\u001b[0m \u001b[0mcolor\u001b[0m\u001b[1;33m=\u001b[0m\u001b[1;34m\"#674EA7\"\u001b[0m\u001b[1;33m)\u001b[0m\u001b[1;33m\u001b[0m\u001b[1;33m\u001b[0m\u001b[0m\n\u001b[0;32m      4\u001b[0m \u001b[0mplot\u001b[0m\u001b[1;33m(\u001b[0m\u001b[0mpr_data_CHLA02\u001b[0m\u001b[1;33m.\u001b[0m\u001b[0mRecall\u001b[0m\u001b[1;33m,\u001b[0m \u001b[0mpr_data_CHLA02\u001b[0m\u001b[1;33m.\u001b[0m\u001b[0mPrecision\u001b[0m\u001b[1;33m,\u001b[0m \u001b[0mlinewidth\u001b[0m\u001b[1;33m=\u001b[0m\u001b[1;36m2\u001b[0m\u001b[1;33m,\u001b[0m \u001b[0mcolor\u001b[0m\u001b[1;33m=\u001b[0m\u001b[1;34m\"k\"\u001b[0m\u001b[1;33m)\u001b[0m\u001b[1;33m\u001b[0m\u001b[1;33m\u001b[0m\u001b[0m\n\u001b[0;32m      5\u001b[0m \u001b[0mplot\u001b[0m\u001b[1;33m(\u001b[0m\u001b[0mpr_data_CHLA04\u001b[0m\u001b[1;33m.\u001b[0m\u001b[0mRecall\u001b[0m\u001b[1;33m,\u001b[0m \u001b[0mpr_data_CHLA04\u001b[0m\u001b[1;33m.\u001b[0m\u001b[0mPrecision\u001b[0m\u001b[1;33m,\u001b[0m \u001b[0mlinewidth\u001b[0m\u001b[1;33m=\u001b[0m\u001b[1;36m2\u001b[0m\u001b[1;33m,\u001b[0m \u001b[0mcolor\u001b[0m\u001b[1;33m=\u001b[0m\u001b[1;34m\"c\"\u001b[0m\u001b[1;33m)\u001b[0m\u001b[1;33m\u001b[0m\u001b[1;33m\u001b[0m\u001b[0m\n",
      "\u001b[1;31mNameError\u001b[0m: name 'figure' is not defined"
     ]
    }
   ],
   "source": [
    "figure(figsize(4,4))\n",
    "plot(pr_data_BT12.Recall, pr_data_BT12.Precision, linewidth=2, color=\"m\")\n",
    "plot(pr_data_BT16.Recall, pr_data_BT16.Precision, linewidth=2, color=\"#674EA7\")\n",
    "plot(pr_data_CHLA02.Recall, pr_data_CHLA02.Precision, linewidth=2, color=\"k\")\n",
    "plot(pr_data_CHLA04.Recall, pr_data_CHLA04.Precision, linewidth=2, color=\"c\")\n",
    "plot(pr_data_CHLA05.Recall, pr_data_CHLA05.Precision, linewidth=2)\n",
    "plot(pr_data_CHLA06.Recall, pr_data_CHLA06.Precision, linewidth=2)\n",
    "plot(pr_data_CHLA266.Recall, pr_data_CHLA266.Precision, linewidth=2)\n",
    "x=[0,1]\n",
    "y=[0.95, 0.95]\n",
    "plot(x, y, linestyle=\"--\", color=\"k\")\n",
    "xlim(0,1.01)\n",
    "ylim(0,1.02)\n",
    "xlabel('Recall')\n",
    "ylabel('Precision (1-FDR)')\n",
    "title('Precision-Recall Plot')\n",
    "savefig(\"PR_curves_merge.pdf\")"
   ]
  },
  {
   "cell_type": "code",
   "execution_count": 7,
   "id": "e082ffe6",
   "metadata": {},
   "outputs": [
    {
     "name": "stdout",
     "output_type": "stream",
     "text": [
      "Using column:  BT16_REP_A, BT16_REP_B, BT16_REP_C\n",
      "Number of unique genes:  19113\n",
      "Number of reference essentials: 684\n",
      "Number of reference nonessentials: 926\n",
      "Iter TrainEss TrainNon TestSet\n",
      "0 582 798 1912\n",
      "1 592 801 1912\n",
      "2 583 831 1912\n",
      "3 584 797 1911\n",
      "4 605 799 1911\n",
      "5 606 802 1911\n",
      "6 605 812 1911\n",
      "7 589 817 1911\n",
      "8 596 805 1911\n",
      "9 607 811 1911\n"
     ]
    }
   ],
   "source": [
    "!BAGEL.py bf -i BT16_corLFCs.txt -o BT16_bf.txt -e CEGv2.txt -n NEGv1.txt -c 1,2,3"
   ]
  },
  {
   "cell_type": "markdown",
   "id": "db05d16f",
   "metadata": {},
   "source": [
    "MAGeCK RRA analysis example"
   ]
  },
  {
   "cell_type": "code",
   "execution_count": null,
   "id": "25d28943",
   "metadata": {},
   "outputs": [],
   "source": [
    "mageck test -k BT12_corCounts.csv -t 1 -c 0 -n BT12 --norm-method none --control-sgrna control_sgRNA.txt"
   ]
  },
  {
   "cell_type": "code",
   "execution_count": null,
   "id": "3a6b7c4b",
   "metadata": {},
   "outputs": [],
   "source": [
    "from platform import python_version\n",
    "print(python_version())"
   ]
  },
  {
   "cell_type": "code",
   "execution_count": 6,
   "id": "4ece6396",
   "metadata": {},
   "outputs": [
    {
     "name": "stdout",
     "output_type": "stream",
     "text": [
      "# packages in environment at C:\\ProgramData\\Anaconda3:\n",
      "#\n",
      "# Name                    Version                   Build  Channel\n",
      "_ipyw_jlab_nb_ext_conf    0.1.0                    py38_0  \n",
      "alabaster                 0.7.12             pyhd3eb1b0_0  \n",
      "anaconda                  2021.05                  py38_0  \n",
      "anaconda-client           1.7.2                    py38_0  \n",
      "anaconda-navigator        2.0.3                    py38_0  \n",
      "anaconda-project          0.9.1              pyhd3eb1b0_1  \n",
      "anyio                     2.2.0            py38haa95532_2  \n",
      "appdirs                   1.4.4                      py_0  \n",
      "argh                      0.26.2                   py38_0  \n",
      "argon2-cffi               20.1.0           py38h2bbff1b_1  \n",
      "asn1crypto                1.4.0                      py_0  \n",
      "astroid                   2.5              py38haa95532_1  \n",
      "astropy                   4.2.1            py38h2bbff1b_1  \n",
      "async_generator           1.10               pyhd3eb1b0_0  \n",
      "atomicwrites              1.4.0                      py_0  \n",
      "attrs                     20.3.0             pyhd3eb1b0_0  \n",
      "autopep8                  1.5.6              pyhd3eb1b0_0  \n",
      "babel                     2.9.0              pyhd3eb1b0_0  \n",
      "backcall                  0.2.0              pyhd3eb1b0_0  \n",
      "backports                 1.0                pyhd3eb1b0_2  \n",
      "backports.functools_lru_cache 1.6.4              pyhd3eb1b0_0  \n",
      "backports.shutil_get_terminal_size 1.0.0              pyhd3eb1b0_3  \n",
      "backports.tempfile        1.0                pyhd3eb1b0_1  \n",
      "backports.weakref         1.0.post1                  py_1  \n",
      "bcrypt                    3.2.0            py38he774522_0  \n",
      "beautifulsoup4            4.9.3              pyha847dfd_0  \n",
      "bitarray                  1.9.2            py38h2bbff1b_1  \n",
      "bkcharts                  0.2                      py38_0  \n",
      "black                     19.10b0                    py_0  \n",
      "blas                      1.0                         mkl  \n",
      "bleach                    3.3.0              pyhd3eb1b0_0  \n",
      "blosc                     1.21.0               h19a0ad4_0  \n",
      "bokeh                     2.3.2            py38haa95532_0  \n",
      "boto                      2.49.0                   py38_0  \n",
      "bottleneck                1.3.2            py38h2a96729_1  \n",
      "brotli                    1.0.9                ha925a31_2  \n",
      "brotlipy                  0.7.0           py38h2bbff1b_1003  \n",
      "bzip2                     1.0.8                he774522_0  \n",
      "ca-certificates           2021.4.13            haa95532_1  \n",
      "certifi                   2020.12.5        py38haa95532_0  \n",
      "cffi                      1.14.5           py38hcd4344a_0  \n",
      "chardet                   4.0.0           py38haa95532_1003  \n",
      "charls                    2.2.0                h6c2663c_0  \n",
      "click                     7.1.2              pyhd3eb1b0_0  \n",
      "cloudpickle               1.6.0                      py_0  \n",
      "clyent                    1.2.2                    py38_1  \n",
      "colorama                  0.4.4              pyhd3eb1b0_0  \n",
      "comtypes                  1.1.9           py38haa95532_1002  \n",
      "conda                     4.10.3           py38haa244fe_2    conda-forge\n",
      "conda-build               3.21.4           py38haa95532_0  \n",
      "conda-content-trust       0.1.1              pyhd3eb1b0_0  \n",
      "conda-env                 2.6.0                         1  \n",
      "conda-package-handling    1.7.3            py38h8cc25b3_1  \n",
      "conda-repo-cli            1.0.4              pyhd3eb1b0_0  \n",
      "conda-token               0.3.0              pyhd3eb1b0_0  \n",
      "conda-verify              3.4.2                      py_1  \n",
      "console_shortcut          0.1.1                         4  \n",
      "contextlib2               0.6.0.post1                py_0  \n",
      "cryptography              3.4.7            py38h71e12ea_0  \n",
      "curl                      7.71.1               h2a8f88b_1  \n",
      "cycler                    0.10.0                   py38_0  \n",
      "cython                    0.29.23          py38hd77b12b_0  \n",
      "cytoolz                   0.11.0           py38he774522_0  \n",
      "dask                      2021.4.0           pyhd3eb1b0_0  \n",
      "dask-core                 2021.4.0           pyhd3eb1b0_0  \n",
      "decorator                 5.0.6              pyhd3eb1b0_0  \n",
      "defusedxml                0.7.1              pyhd3eb1b0_0  \n",
      "diff-match-patch          20200713                   py_0  \n",
      "distributed               2021.4.0         py38haa95532_0  \n",
      "docutils                  0.17             py38haa95532_1  \n",
      "entrypoints               0.3                      py38_0  \n",
      "et_xmlfile                1.0.1                   py_1001  \n",
      "fastcache                 1.1.0            py38he774522_0  \n",
      "filelock                  3.0.12             pyhd3eb1b0_1  \n",
      "flake8                    3.9.0              pyhd3eb1b0_0  \n",
      "flask                     1.1.2              pyhd3eb1b0_0  \n",
      "freetype                  2.10.4               hd328e21_0  \n",
      "fsspec                    0.9.0              pyhd3eb1b0_0  \n",
      "future                    0.18.2                   py38_1  \n",
      "get_terminal_size         1.0.0                h38e98db_0  \n",
      "gevent                    21.1.2           py38h2bbff1b_1  \n",
      "giflib                    5.2.1                h62dcd97_0  \n",
      "git                       2.32.0               haa95532_1  \n",
      "glob2                     0.7                pyhd3eb1b0_0  \n",
      "greenlet                  1.0.0            py38hd77b12b_2  \n",
      "h5py                      2.10.0           py38h5e291fa_0  \n",
      "hdf5                      1.10.4               h7ebc959_0  \n",
      "heapdict                  1.0.1                      py_0  \n",
      "html5lib                  1.1                        py_0  \n",
      "icc_rt                    2019.0.0             h0cc432a_1  \n",
      "icu                       58.2                 ha925a31_3  \n",
      "idna                      2.10               pyhd3eb1b0_0  \n",
      "imagecodecs               2021.3.31        py38h5da4933_0  \n",
      "imageio                   2.9.0              pyhd3eb1b0_0  \n",
      "imagesize                 1.2.0              pyhd3eb1b0_0  \n",
      "importlib-metadata        3.10.0           py38haa95532_0  \n",
      "importlib_metadata        3.10.0               hd3eb1b0_0  \n",
      "iniconfig                 1.1.1              pyhd3eb1b0_0  \n",
      "intel-openmp              2021.2.0           haa95532_616  \n",
      "intervaltree              3.1.0                      py_0  \n",
      "ipykernel                 5.3.4            py38h5ca1d4c_0  \n",
      "ipython                   7.22.0           py38hd4e2768_0  \n",
      "ipython_genutils          0.2.0              pyhd3eb1b0_1  \n",
      "ipywidgets                7.6.3              pyhd3eb1b0_1  \n",
      "isort                     5.8.0              pyhd3eb1b0_0  \n",
      "itsdangerous              1.1.0              pyhd3eb1b0_0  \n",
      "jdcal                     1.4.1                      py_0  \n",
      "jedi                      0.17.2           py38haa95532_1  \n",
      "jinja2                    2.11.3             pyhd3eb1b0_0  \n",
      "joblib                    1.0.1              pyhd3eb1b0_0  \n",
      "jpeg                      9b                   hb83a4c4_2  \n",
      "json5                     0.9.5                      py_0  \n",
      "jsonschema                3.2.0                      py_2  \n",
      "jupyter                   1.0.0                    py38_7  \n",
      "jupyter-packaging         0.7.12             pyhd3eb1b0_0  \n",
      "jupyter_client            6.1.12             pyhd3eb1b0_0  \n",
      "jupyter_console           6.4.0              pyhd3eb1b0_0  \n",
      "jupyter_core              4.7.1            py38haa95532_0  \n",
      "jupyter_server            1.4.1            py38haa95532_0  \n",
      "jupyterlab                3.0.14             pyhd3eb1b0_1  \n",
      "jupyterlab_pygments       0.1.2                      py_0  \n",
      "jupyterlab_server         2.4.0              pyhd3eb1b0_0  \n",
      "jupyterlab_widgets        1.0.0              pyhd3eb1b0_1  \n",
      "keyring                   22.3.0           py38haa95532_0  \n",
      "kiwisolver                1.3.1            py38hd77b12b_0  \n",
      "krb5                      1.18.2               hc04afaa_0  \n",
      "lazy-object-proxy         1.6.0            py38h2bbff1b_0  \n",
      "lcms2                     2.12                 h83e58a3_0  \n",
      "lerc                      2.2.1                hd77b12b_0  \n",
      "libaec                    1.0.4                h33f27b4_1  \n",
      "libarchive                3.4.2                h5e25573_0  \n",
      "libcurl                   7.71.1               h2a8f88b_1  \n",
      "libdeflate                1.7                  h2bbff1b_5  \n",
      "libiconv                  1.15                 h1df5818_7  \n",
      "liblief                   0.10.1               ha925a31_0  \n",
      "libpng                    1.6.37               h2a8f88b_0  \n",
      "libsodium                 1.0.18               h62dcd97_0  \n",
      "libspatialindex           1.9.3                h6c2663c_0  \n",
      "libssh2                   1.9.0                h7a1dbc1_1  \n",
      "libtiff                   4.2.0                hd0e1b90_0  \n",
      "libxml2                   2.9.10               hb89e7f3_3  \n",
      "libxslt                   1.1.34               he774522_0  \n",
      "libzopfli                 1.0.3                ha925a31_0  \n",
      "llvmlite                  0.36.0           py38h34b8924_4  \n",
      "locket                    0.2.1            py38haa95532_1  \n",
      "lxml                      4.6.3            py38h9b66d53_0  \n",
      "lz4-c                     1.9.3                h2bbff1b_0  \n",
      "lzo                       2.10                 he774522_2  \n",
      "m2w64-gcc-libgfortran     5.3.0                         6  \n",
      "m2w64-gcc-libs            5.3.0                         7  \n",
      "m2w64-gcc-libs-core       5.3.0                         7  \n",
      "m2w64-gmp                 6.1.0                         2  \n",
      "m2w64-libwinpthread-git   5.0.0.4634.697f757               2  \n",
      "markupsafe                1.1.1            py38he774522_0  \n",
      "matplotlib                3.3.4            py38haa95532_0  \n",
      "matplotlib-base           3.3.4            py38h49ac443_0  \n",
      "mccabe                    0.6.1                    py38_1  \n",
      "menuinst                  1.4.16           py38he774522_1  \n",
      "mistune                   0.8.4           py38he774522_1000  \n",
      "mkl                       2021.2.0           haa95532_296  \n",
      "mkl-service               2.3.0            py38h2bbff1b_1  \n",
      "mkl_fft                   1.3.0            py38h277e83a_2  \n",
      "mkl_random                1.2.1            py38hf11a4ad_2  \n",
      "mock                      4.0.3              pyhd3eb1b0_0  \n",
      "more-itertools            8.7.0              pyhd3eb1b0_0  \n",
      "mpmath                    1.2.1            py38haa95532_0  \n",
      "msgpack-python            1.0.2            py38h59b6b97_1  \n",
      "msys2-conda-epoch         20160418                      1  \n",
      "multipledispatch          0.6.0                    py38_0  \n",
      "mypy_extensions           0.4.3                    py38_0  \n",
      "navigator-updater         0.2.1                    py38_0  \n",
      "nbclassic                 0.2.6              pyhd3eb1b0_0  \n",
      "nbclient                  0.5.3              pyhd3eb1b0_0  \n",
      "nbconvert                 6.0.7                    py38_0  \n",
      "nbformat                  5.1.3              pyhd3eb1b0_0  \n",
      "nest-asyncio              1.5.1              pyhd3eb1b0_0  \n",
      "networkx                  2.5                        py_0  \n",
      "nltk                      3.6.1              pyhd3eb1b0_0  \n",
      "nose                      1.3.7           pyhd3eb1b0_1006  \n",
      "notebook                  6.3.0            py38haa95532_0  \n",
      "numba                     0.53.1           py38hf11a4ad_0  \n",
      "numexpr                   2.7.3            py38hb80d3ca_1  \n",
      "numpy                     1.20.1           py38h34a8a5c_0  \n",
      "numpy-base                1.20.1           py38haf7ebc8_0  \n",
      "numpydoc                  1.1.0              pyhd3eb1b0_1  \n",
      "olefile                   0.46                       py_0  \n",
      "openjpeg                  2.3.0                h5ec785f_1  \n",
      "openpyxl                  3.0.7              pyhd3eb1b0_0  \n",
      "openssl                   1.1.1k               h2bbff1b_0  \n",
      "packaging                 20.9               pyhd3eb1b0_0  \n",
      "pandas                    1.2.4            py38hd77b12b_0  \n",
      "pandoc                    2.12                 haa95532_0  \n",
      "pandocfilters             1.4.3            py38haa95532_1  \n",
      "paramiko                  2.7.2                      py_0  \n",
      "parso                     0.7.0                      py_0  \n",
      "partd                     1.2.0              pyhd3eb1b0_0  \n",
      "path                      15.1.2           py38haa95532_0  \n",
      "path.py                   12.5.0                        0  \n",
      "pathlib2                  2.3.5            py38haa95532_2  \n",
      "pathspec                  0.7.0                      py_0  \n",
      "patsy                     0.5.1                    py38_0  \n",
      "pep8                      1.7.1                    py38_0  \n",
      "pexpect                   4.8.0              pyhd3eb1b0_3  \n",
      "pickleshare               0.7.5           pyhd3eb1b0_1003  \n",
      "pillow                    8.2.0            py38h4fa10fc_0  \n",
      "pip                       21.0.1           py38haa95532_0  \n",
      "pkginfo                   1.7.0            py38haa95532_0  \n",
      "pluggy                    0.13.1           py38haa95532_0  \n",
      "ply                       3.11                     py38_0  \n",
      "powershell_shortcut       0.0.1                         3  \n",
      "prometheus_client         0.10.1             pyhd3eb1b0_0  \n",
      "prompt-toolkit            3.0.17             pyh06a4308_0  \n",
      "prompt_toolkit            3.0.17               hd3eb1b0_0  \n",
      "psutil                    5.8.0            py38h2bbff1b_1  \n",
      "ptyprocess                0.7.0              pyhd3eb1b0_2  \n",
      "py                        1.10.0             pyhd3eb1b0_0  \n",
      "py-lief                   0.10.1           py38ha925a31_0  \n",
      "pycodestyle               2.6.0              pyhd3eb1b0_0  \n",
      "pycosat                   0.6.3            py38h2bbff1b_0  \n",
      "pycparser                 2.20                       py_2  \n",
      "pycurl                    7.43.0.6         py38h7a1dbc1_0  \n",
      "pydocstyle                6.0.0              pyhd3eb1b0_0  \n",
      "pyerfa                    1.7.3            py38h2bbff1b_0  \n",
      "pyflakes                  2.2.0              pyhd3eb1b0_0  \n",
      "pygments                  2.8.1              pyhd3eb1b0_0  \n",
      "pylint                    2.7.4            py38haa95532_1  \n",
      "pyls-black                0.4.6                hd3eb1b0_0  \n",
      "pyls-spyder               0.3.2              pyhd3eb1b0_0  \n",
      "pynacl                    1.4.0            py38h62dcd97_1  \n",
      "pyodbc                    4.0.30           py38ha925a31_0  \n",
      "pyopenssl                 20.0.1             pyhd3eb1b0_1  \n",
      "pyparsing                 2.4.7              pyhd3eb1b0_0  \n",
      "pyqt                      5.9.2            py38ha925a31_4  \n",
      "pyreadline                2.1                      py38_1  \n",
      "pyrsistent                0.17.3           py38he774522_0  \n",
      "pysocks                   1.7.1            py38haa95532_0  \n",
      "pytables                  3.6.1            py38ha5be198_0  \n",
      "pytest                    6.2.3            py38haa95532_2  \n",
      "python                    3.8.8                hdbf39b2_5  \n",
      "python-dateutil           2.8.1              pyhd3eb1b0_0  \n",
      "python-jsonrpc-server     0.4.0                      py_0  \n",
      "python-language-server    0.36.2             pyhd3eb1b0_0  \n",
      "python-libarchive-c       2.9                pyhd3eb1b0_1  \n",
      "python_abi                3.8                      2_cp38    conda-forge\n",
      "pytz                      2021.1             pyhd3eb1b0_0  \n",
      "pywavelets                1.1.1            py38he774522_2  \n",
      "pywin32                   227              py38he774522_1  \n",
      "pywin32-ctypes            0.2.0                 py38_1000  \n",
      "pywinpty                  0.5.7                    py38_0  \n",
      "pyyaml                    5.4.1            py38h2bbff1b_1  \n",
      "pyzmq                     20.0.0           py38hd77b12b_1  \n",
      "qdarkstyle                2.8.1                      py_0  \n",
      "qt                        5.9.7            vc14h73c81de_0  \n",
      "qtawesome                 1.0.2              pyhd3eb1b0_0  \n",
      "qtconsole                 5.0.3              pyhd3eb1b0_0  \n",
      "qtpy                      1.9.0                      py_0  \n",
      "regex                     2021.4.4         py38h2bbff1b_0  \n",
      "requests                  2.25.1             pyhd3eb1b0_0  \n",
      "rope                      0.18.0                     py_0  \n",
      "rtree                     0.9.7            py38h2eaa2aa_1  \n",
      "ruamel_yaml               0.15.100         py38h2bbff1b_0  \n",
      "scikit-image              0.18.1           py38hf11a4ad_0  \n",
      "scikit-learn              0.24.1           py38hf11a4ad_0  \n",
      "scipy                     1.6.2            py38h66253e8_1  \n",
      "seaborn                   0.11.1             pyhd3eb1b0_0  \n",
      "send2trash                1.5.0              pyhd3eb1b0_1  \n",
      "setuptools                52.0.0           py38haa95532_0  \n",
      "simplegeneric             0.8.1                    py38_2  \n",
      "singledispatch            3.6.1           pyhd3eb1b0_1001  \n",
      "sip                       4.19.13          py38ha925a31_0  \n",
      "six                       1.15.0           py38haa95532_0  \n",
      "snappy                    1.1.8                h33f27b4_0  \n",
      "sniffio                   1.2.0            py38haa95532_1  \n",
      "snowballstemmer           2.1.0              pyhd3eb1b0_0  \n",
      "sortedcollections         2.1.0              pyhd3eb1b0_0  \n",
      "sortedcontainers          2.3.0              pyhd3eb1b0_0  \n",
      "soupsieve                 2.2.1              pyhd3eb1b0_0  \n",
      "sphinx                    4.0.1              pyhd3eb1b0_0  \n",
      "sphinxcontrib             1.0                      py38_1  \n",
      "sphinxcontrib-applehelp   1.0.2              pyhd3eb1b0_0  \n",
      "sphinxcontrib-devhelp     1.0.2              pyhd3eb1b0_0  \n",
      "sphinxcontrib-htmlhelp    1.0.3              pyhd3eb1b0_0  \n",
      "sphinxcontrib-jsmath      1.0.1              pyhd3eb1b0_0  \n",
      "sphinxcontrib-qthelp      1.0.3              pyhd3eb1b0_0  \n",
      "sphinxcontrib-serializinghtml 1.1.4              pyhd3eb1b0_0  \n",
      "sphinxcontrib-websupport  1.2.4                      py_0  \n",
      "spyder                    4.2.5            py38haa95532_0  \n",
      "spyder-kernels            1.10.2           py38haa95532_0  \n",
      "sqlalchemy                1.4.7            py38h2bbff1b_0  \n",
      "sqlite                    3.35.4               h2bbff1b_0  \n",
      "statsmodels               0.12.2           py38h2bbff1b_0  \n",
      "sympy                     1.8              py38haa95532_0  \n",
      "tbb                       2020.3               h74a9793_0  \n",
      "tblib                     1.7.0                      py_0  \n",
      "terminado                 0.9.4            py38haa95532_0  \n",
      "testpath                  0.4.4              pyhd3eb1b0_0  \n",
      "textdistance              4.2.1              pyhd3eb1b0_0  \n",
      "threadpoolctl             2.1.0              pyh5ca1d4c_0  \n",
      "three-merge               0.1.1              pyhd3eb1b0_0  \n",
      "tifffile                  2021.4.8           pyhd3eb1b0_2  \n",
      "tk                        8.6.10               he774522_0  \n",
      "toml                      0.10.2             pyhd3eb1b0_0  \n",
      "toolz                     0.11.1             pyhd3eb1b0_0  \n",
      "tornado                   6.1              py38h2bbff1b_0  \n",
      "tqdm                      4.59.0             pyhd3eb1b0_1  \n",
      "traitlets                 5.0.5              pyhd3eb1b0_0  \n",
      "typed-ast                 1.4.2            py38h2bbff1b_1  \n",
      "typing_extensions         3.7.4.3            pyha847dfd_0  \n",
      "ujson                     4.0.2            py38hd77b12b_0  \n",
      "unicodecsv                0.14.1                   py38_0  \n",
      "urllib3                   1.26.4             pyhd3eb1b0_0  \n",
      "vc                        14.2                 h21ff451_1  \n",
      "vs2015_runtime            14.27.29016          h5e58377_2  \n",
      "watchdog                  1.0.2            py38haa95532_1  \n",
      "wcwidth                   0.2.5                      py_0  \n",
      "webencodings              0.5.1                    py38_1  \n",
      "werkzeug                  1.0.1              pyhd3eb1b0_0  \n",
      "wheel                     0.36.2             pyhd3eb1b0_0  \n",
      "widgetsnbextension        3.5.1                    py38_0  \n",
      "win_inet_pton             1.1.0            py38haa95532_0  \n",
      "Note: you may need to restart the kernel to use updated packages.\n",
      "\n"
     ]
    },
    {
     "name": "stdout",
     "output_type": "stream",
     "text": [
      "win_unicode_console       0.5                      py38_0  \n",
      "wincertstore              0.2                      py38_0  \n",
      "winpty                    0.4.3                         4  \n",
      "wrapt                     1.12.1           py38he774522_1  \n",
      "xlrd                      2.0.1              pyhd3eb1b0_0  \n",
      "xlsxwriter                1.3.8              pyhd3eb1b0_0  \n",
      "xlwings                   0.23.0           py38haa95532_0  \n",
      "xlwt                      1.3.0                    py38_0  \n",
      "xmltodict                 0.12.0                     py_0  \n",
      "xz                        5.2.5                h62dcd97_0  \n",
      "yaml                      0.2.5                he774522_0  \n",
      "yapf                      0.31.0             pyhd3eb1b0_0  \n",
      "zeromq                    4.3.3                ha925a31_3  \n",
      "zfp                       0.5.5                hd77b12b_6  \n",
      "zict                      2.0.0              pyhd3eb1b0_0  \n",
      "zipp                      3.4.1              pyhd3eb1b0_0  \n",
      "zlib                      1.2.11               h62dcd97_4  \n",
      "zope                      1.0                      py38_1  \n",
      "zope.event                4.5.0                    py38_0  \n",
      "zope.interface            5.3.0            py38h2bbff1b_0  \n",
      "zstd                      1.4.5                h04227a9_0  \n"
     ]
    }
   ],
   "source": [
    "conda list"
   ]
  },
  {
   "cell_type": "code",
   "execution_count": 7,
   "id": "9dd35cae",
   "metadata": {},
   "outputs": [
    {
     "name": "stdout",
     "output_type": "stream",
     "text": [
      "conda 4.10.3\n",
      "\n",
      "Note: you may need to restart the kernel to use updated packages.\n"
     ]
    }
   ],
   "source": [
    "conda -V"
   ]
  }
 ],
 "metadata": {
  "kernelspec": {
   "display_name": "Python 3",
   "language": "python",
   "name": "python3"
  },
  "language_info": {
   "codemirror_mode": {
    "name": "ipython",
    "version": 3
   },
   "file_extension": ".py",
   "mimetype": "text/x-python",
   "name": "python",
   "nbconvert_exporter": "python",
   "pygments_lexer": "ipython3",
   "version": "3.8.8"
  }
 },
 "nbformat": 4,
 "nbformat_minor": 5
}
